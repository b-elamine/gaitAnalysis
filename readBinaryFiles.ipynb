{
 "cells": [
  {
   "cell_type": "code",
   "execution_count": 1,
   "id": "2b030339",
   "metadata": {},
   "outputs": [],
   "source": [
    "from IPython.display import display\n",
    "import matplotlib.pyplot as plt\n",
    "%matplotlib inline\n",
    "import numpy as np\n",
    "import os\n",
    "import shutil\n",
    "import posixpath\n",
    "import wfdb\n",
    "import pandas as pd"
   ]
  },
  {
   "cell_type": "code",
   "execution_count": 2,
   "id": "8ca181e2",
   "metadata": {},
   "outputs": [
    {
     "data": {
      "text/plain": [
       "{'record_name': 'FL001',\n",
       " 'n_sig': 6,\n",
       " 'fs': 100,\n",
       " 'counter_freq': None,\n",
       " 'base_counter': None,\n",
       " 'sig_len': 24542514,\n",
       " 'base_time': None,\n",
       " 'base_date': None,\n",
       " 'comments': ['Age:79.2', 'Sex:M'],\n",
       " 'sig_name': ['v-acceleration',\n",
       "  'ml-acceleration',\n",
       "  'ap-acceleration',\n",
       "  'yaw-velocity',\n",
       "  'pitch-velocity',\n",
       "  'roll-velocity'],\n",
       " 'p_signal': array([[  0.15161927,   0.2463004 ,  -1.01169028,  -6.65615068,\n",
       "         -31.49559987, -12.78891854],\n",
       "        [  0.12423455,   0.26350916,  -1.03307087,  -9.03531198,\n",
       "         -26.9265502 ,  -4.59867185],\n",
       "        [  0.06562889,   0.25203665,  -1.01266213,  -9.66104515,\n",
       "         -19.36645858,   4.80494472],\n",
       "        ...,\n",
       "        [  0.15067497,   0.94259795,  -0.33589381,   0.59822842,\n",
       "           1.26957895,   5.33882747],\n",
       "        [  0.14973067,   0.94259795,  -0.33589381,   0.47445702,\n",
       "           1.31978829,   5.32669377],\n",
       "        [  0.14973067,   0.94451004,  -0.33692639,   0.44695227,\n",
       "           1.34847934,   5.32669377]]),\n",
       " 'd_signal': None,\n",
       " 'e_p_signal': None,\n",
       " 'e_d_signal': None,\n",
       " 'file_name': ['FL001.dat',\n",
       "  'FL001.dat',\n",
       "  'FL001.dat',\n",
       "  'FL001.dat',\n",
       "  'FL001.dat',\n",
       "  'FL001.dat'],\n",
       " 'fmt': ['16', '16', '16', '16', '16', '16'],\n",
       " 'samps_per_frame': [1, 1, 1, 1, 1, 1],\n",
       " 'skew': [None, None, None, None, None, None],\n",
       " 'byte_offset': [None, None, None, None, None, None],\n",
       " 'adc_gain': [16943.7565, 16735.6612, 16463.5366, 145.4294, 139.4163, 82.4151],\n",
       " 'baseline': [-136, -232, 72, 422, 223, -809],\n",
       " 'units': ['g', 'g', 'g', 'degrees/s', 'degrees/s', 'degrees/s'],\n",
       " 'adc_res': [0, 0, 0, 0, 0, 0],\n",
       " 'adc_zero': [0, 0, 0, 0, 0, 0],\n",
       " 'init_value': [2433, 3890, -16584, -546, -4168, -1863],\n",
       " 'checksum': [18132, -7444, 14478, -5303, 11422, -20148],\n",
       " 'block_size': [0, 0, 0, 0, 0, 0]}"
      ]
     },
     "metadata": {},
     "output_type": "display_data"
    }
   ],
   "source": [
    "#Read binary data file\n",
    "\n",
    "record = wfdb.rdrecord('/home/bechorfa/Downloads/patho/FL001') \n",
    "display(record.__dict__)"
   ]
  },
  {
   "cell_type": "code",
   "execution_count": 3,
   "id": "9012ef16",
   "metadata": {},
   "outputs": [],
   "source": [
    "#Separating the three accelerometer axes  \n",
    "\n",
    "#Vertical acc\n",
    "v_acc, fields = wfdb.rdsamp('/home/bechorfa/Downloads/patho/FL001', channels=[0])\n",
    "\n",
    "#Mediolateral acc\n",
    "ml_acc, fields = wfdb.rdsamp('/home/bechorfa/Downloads/patho/FL001', channels=[1])\n",
    "\n",
    "#Anterior-Posterior acc\n",
    "ap_acc, fields = wfdb.rdsamp('/home/bechorfa/Downloads/patho/FL001', channels=[2])"
   ]
  },
  {
   "cell_type": "code",
   "execution_count": 4,
   "id": "3a74d6fa",
   "metadata": {},
   "outputs": [],
   "source": [
    "#Creating dataFrame from every axis of the three above\n",
    "\n",
    "acc_x = pd.DataFrame(v_acc, columns=[\"vertical\"])\n",
    "acc_y = pd.DataFrame(ml_acc, columns=[\"mediolateral\"])\n",
    "acc_z = pd.DataFrame(ap_acc, columns=[\"anterior-posterior\"])\n",
    "\n",
    "#Concatinate the three dataFrames created & giving column convinient names\n",
    "\n",
    "df = pd.concat([acc_x, acc_y, acc_z], axis=1, ignore_index=True)\n",
    "df = df.rename(columns={0: \"v-acceleration\", 1: \"ml-acceleration\", 2:\"ap-acceleration\"})\n"
   ]
  },
  {
   "cell_type": "code",
   "execution_count": 5,
   "id": "1276c2a6",
   "metadata": {},
   "outputs": [
    {
     "data": {
      "text/html": [
       "<div>\n",
       "<style scoped>\n",
       "    .dataframe tbody tr th:only-of-type {\n",
       "        vertical-align: middle;\n",
       "    }\n",
       "\n",
       "    .dataframe tbody tr th {\n",
       "        vertical-align: top;\n",
       "    }\n",
       "\n",
       "    .dataframe thead th {\n",
       "        text-align: right;\n",
       "    }\n",
       "</style>\n",
       "<table border=\"1\" class=\"dataframe\">\n",
       "  <thead>\n",
       "    <tr style=\"text-align: right;\">\n",
       "      <th></th>\n",
       "      <th>t ms</th>\n",
       "      <th>v-acceleration</th>\n",
       "      <th>ml-acceleration</th>\n",
       "      <th>ap-acceleration</th>\n",
       "    </tr>\n",
       "  </thead>\n",
       "  <tbody>\n",
       "    <tr>\n",
       "      <th>0</th>\n",
       "      <td>0</td>\n",
       "      <td>0.151619</td>\n",
       "      <td>0.246300</td>\n",
       "      <td>-1.011690</td>\n",
       "    </tr>\n",
       "    <tr>\n",
       "      <th>1</th>\n",
       "      <td>10</td>\n",
       "      <td>0.124235</td>\n",
       "      <td>0.263509</td>\n",
       "      <td>-1.033071</td>\n",
       "    </tr>\n",
       "    <tr>\n",
       "      <th>2</th>\n",
       "      <td>20</td>\n",
       "      <td>0.065629</td>\n",
       "      <td>0.252037</td>\n",
       "      <td>-1.012662</td>\n",
       "    </tr>\n",
       "    <tr>\n",
       "      <th>3</th>\n",
       "      <td>30</td>\n",
       "      <td>0.047687</td>\n",
       "      <td>0.171669</td>\n",
       "      <td>-0.978587</td>\n",
       "    </tr>\n",
       "    <tr>\n",
       "      <th>4</th>\n",
       "      <td>40</td>\n",
       "      <td>0.047687</td>\n",
       "      <td>0.201307</td>\n",
       "      <td>-0.964981</td>\n",
       "    </tr>\n",
       "    <tr>\n",
       "      <th>...</th>\n",
       "      <td>...</td>\n",
       "      <td>...</td>\n",
       "      <td>...</td>\n",
       "      <td>...</td>\n",
       "    </tr>\n",
       "    <tr>\n",
       "      <th>24542509</th>\n",
       "      <td>245425090</td>\n",
       "      <td>0.150675</td>\n",
       "      <td>0.943554</td>\n",
       "      <td>-0.336926</td>\n",
       "    </tr>\n",
       "    <tr>\n",
       "      <th>24542510</th>\n",
       "      <td>245425100</td>\n",
       "      <td>0.150675</td>\n",
       "      <td>0.942598</td>\n",
       "      <td>-0.335894</td>\n",
       "    </tr>\n",
       "    <tr>\n",
       "      <th>24542511</th>\n",
       "      <td>245425110</td>\n",
       "      <td>0.150675</td>\n",
       "      <td>0.942598</td>\n",
       "      <td>-0.335894</td>\n",
       "    </tr>\n",
       "    <tr>\n",
       "      <th>24542512</th>\n",
       "      <td>245425120</td>\n",
       "      <td>0.149731</td>\n",
       "      <td>0.942598</td>\n",
       "      <td>-0.335894</td>\n",
       "    </tr>\n",
       "    <tr>\n",
       "      <th>24542513</th>\n",
       "      <td>245425130</td>\n",
       "      <td>0.149731</td>\n",
       "      <td>0.944510</td>\n",
       "      <td>-0.336926</td>\n",
       "    </tr>\n",
       "  </tbody>\n",
       "</table>\n",
       "<p>24542514 rows × 4 columns</p>\n",
       "</div>"
      ],
      "text/plain": [
       "               t ms  v-acceleration  ml-acceleration  ap-acceleration\n",
       "0                 0        0.151619         0.246300        -1.011690\n",
       "1                10        0.124235         0.263509        -1.033071\n",
       "2                20        0.065629         0.252037        -1.012662\n",
       "3                30        0.047687         0.171669        -0.978587\n",
       "4                40        0.047687         0.201307        -0.964981\n",
       "...             ...             ...              ...              ...\n",
       "24542509  245425090        0.150675         0.943554        -0.336926\n",
       "24542510  245425100        0.150675         0.942598        -0.335894\n",
       "24542511  245425110        0.150675         0.942598        -0.335894\n",
       "24542512  245425120        0.149731         0.942598        -0.335894\n",
       "24542513  245425130        0.149731         0.944510        -0.336926\n",
       "\n",
       "[24542514 rows x 4 columns]"
      ]
     },
     "execution_count": 5,
     "metadata": {},
     "output_type": "execute_result"
    }
   ],
   "source": [
    "#Creating new tmp column (choosen rate 10 ms per sample)\n",
    "\n",
    "tmp = []\n",
    "for i in range (len(df)):\n",
    "    tmp.append(10*i)\n",
    "\n",
    "df.insert(0, 't ms', tmp)\n",
    "\n",
    "df"
   ]
  },
  {
   "cell_type": "code",
   "execution_count": 6,
   "id": "e4c22031",
   "metadata": {},
   "outputs": [
    {
     "data": {
      "text/html": [
       "<div>\n",
       "<style scoped>\n",
       "    .dataframe tbody tr th:only-of-type {\n",
       "        vertical-align: middle;\n",
       "    }\n",
       "\n",
       "    .dataframe tbody tr th {\n",
       "        vertical-align: top;\n",
       "    }\n",
       "\n",
       "    .dataframe thead th {\n",
       "        text-align: right;\n",
       "    }\n",
       "</style>\n",
       "<table border=\"1\" class=\"dataframe\">\n",
       "  <thead>\n",
       "    <tr style=\"text-align: right;\">\n",
       "      <th></th>\n",
       "      <th>t ms</th>\n",
       "      <th>v-acceleration</th>\n",
       "      <th>ml-acceleration</th>\n",
       "      <th>ap-acceleration</th>\n",
       "      <th>mean</th>\n",
       "      <th>mag</th>\n",
       "    </tr>\n",
       "  </thead>\n",
       "  <tbody>\n",
       "    <tr>\n",
       "      <th>0</th>\n",
       "      <td>0</td>\n",
       "      <td>0.151619</td>\n",
       "      <td>0.246300</td>\n",
       "      <td>-1.011690</td>\n",
       "      <td>-0.204590</td>\n",
       "      <td>1.052221</td>\n",
       "    </tr>\n",
       "    <tr>\n",
       "      <th>1</th>\n",
       "      <td>10</td>\n",
       "      <td>0.124235</td>\n",
       "      <td>0.263509</td>\n",
       "      <td>-1.033071</td>\n",
       "      <td>-0.215109</td>\n",
       "      <td>1.073362</td>\n",
       "    </tr>\n",
       "    <tr>\n",
       "      <th>2</th>\n",
       "      <td>20</td>\n",
       "      <td>0.065629</td>\n",
       "      <td>0.252037</td>\n",
       "      <td>-1.012662</td>\n",
       "      <td>-0.231666</td>\n",
       "      <td>1.045617</td>\n",
       "    </tr>\n",
       "    <tr>\n",
       "      <th>3</th>\n",
       "      <td>30</td>\n",
       "      <td>0.047687</td>\n",
       "      <td>0.171669</td>\n",
       "      <td>-0.978587</td>\n",
       "      <td>-0.253077</td>\n",
       "      <td>0.994674</td>\n",
       "    </tr>\n",
       "    <tr>\n",
       "      <th>4</th>\n",
       "      <td>40</td>\n",
       "      <td>0.047687</td>\n",
       "      <td>0.201307</td>\n",
       "      <td>-0.964981</td>\n",
       "      <td>-0.238662</td>\n",
       "      <td>0.986908</td>\n",
       "    </tr>\n",
       "    <tr>\n",
       "      <th>...</th>\n",
       "      <td>...</td>\n",
       "      <td>...</td>\n",
       "      <td>...</td>\n",
       "      <td>...</td>\n",
       "      <td>...</td>\n",
       "      <td>...</td>\n",
       "    </tr>\n",
       "    <tr>\n",
       "      <th>24542509</th>\n",
       "      <td>245425090</td>\n",
       "      <td>0.150675</td>\n",
       "      <td>0.943554</td>\n",
       "      <td>-0.336926</td>\n",
       "      <td>0.252434</td>\n",
       "      <td>1.013171</td>\n",
       "    </tr>\n",
       "    <tr>\n",
       "      <th>24542510</th>\n",
       "      <td>245425100</td>\n",
       "      <td>0.150675</td>\n",
       "      <td>0.942598</td>\n",
       "      <td>-0.335894</td>\n",
       "      <td>0.252460</td>\n",
       "      <td>1.011938</td>\n",
       "    </tr>\n",
       "    <tr>\n",
       "      <th>24542511</th>\n",
       "      <td>245425110</td>\n",
       "      <td>0.150675</td>\n",
       "      <td>0.942598</td>\n",
       "      <td>-0.335894</td>\n",
       "      <td>0.252460</td>\n",
       "      <td>1.011938</td>\n",
       "    </tr>\n",
       "    <tr>\n",
       "      <th>24542512</th>\n",
       "      <td>245425120</td>\n",
       "      <td>0.149731</td>\n",
       "      <td>0.942598</td>\n",
       "      <td>-0.335894</td>\n",
       "      <td>0.252145</td>\n",
       "      <td>1.011798</td>\n",
       "    </tr>\n",
       "    <tr>\n",
       "      <th>24542513</th>\n",
       "      <td>245425130</td>\n",
       "      <td>0.149731</td>\n",
       "      <td>0.944510</td>\n",
       "      <td>-0.336926</td>\n",
       "      <td>0.252438</td>\n",
       "      <td>1.013922</td>\n",
       "    </tr>\n",
       "  </tbody>\n",
       "</table>\n",
       "<p>24542514 rows × 6 columns</p>\n",
       "</div>"
      ],
      "text/plain": [
       "               t ms  v-acceleration  ml-acceleration  ap-acceleration  \\\n",
       "0                 0        0.151619         0.246300        -1.011690   \n",
       "1                10        0.124235         0.263509        -1.033071   \n",
       "2                20        0.065629         0.252037        -1.012662   \n",
       "3                30        0.047687         0.171669        -0.978587   \n",
       "4                40        0.047687         0.201307        -0.964981   \n",
       "...             ...             ...              ...              ...   \n",
       "24542509  245425090        0.150675         0.943554        -0.336926   \n",
       "24542510  245425100        0.150675         0.942598        -0.335894   \n",
       "24542511  245425110        0.150675         0.942598        -0.335894   \n",
       "24542512  245425120        0.149731         0.942598        -0.335894   \n",
       "24542513  245425130        0.149731         0.944510        -0.336926   \n",
       "\n",
       "              mean       mag  \n",
       "0        -0.204590  1.052221  \n",
       "1        -0.215109  1.073362  \n",
       "2        -0.231666  1.045617  \n",
       "3        -0.253077  0.994674  \n",
       "4        -0.238662  0.986908  \n",
       "...            ...       ...  \n",
       "24542509  0.252434  1.013171  \n",
       "24542510  0.252460  1.011938  \n",
       "24542511  0.252460  1.011938  \n",
       "24542512  0.252145  1.011798  \n",
       "24542513  0.252438  1.013922  \n",
       "\n",
       "[24542514 rows x 6 columns]"
      ]
     },
     "execution_count": 6,
     "metadata": {},
     "output_type": "execute_result"
    }
   ],
   "source": [
    "df[\"mean\"] = df.iloc[:,1:4].mean(axis=\"columns\")\n",
    "df[\"mag\"]=np.sqrt(np.square(df.iloc[:,1:4]).sum(axis=1))\n",
    "df"
   ]
  },
  {
   "cell_type": "code",
   "execution_count": 7,
   "id": "06deefaf",
   "metadata": {},
   "outputs": [],
   "source": [
    "#Slicing our data to 42 part each part represent a day with around 3h15min/day of record (6 weeks)\n",
    "\n",
    "df_days = []\n",
    "\n",
    "for i in range(21):\n",
    "    if (i<20):\n",
    "        df_days.append(df[(int(len(df)/21))*i:(int(len(df)/21))*(i+1)])\n",
    "    else:\n",
    "        df_days.append(df[(int(len(df)/21))*i:len(df)])\n",
    "        "
   ]
  },
  {
   "cell_type": "code",
   "execution_count": 8,
   "id": "a7e22fe6",
   "metadata": {},
   "outputs": [
    {
     "data": {
      "image/png": "[encoded data removed]",
      "text/plain": [
       "<Figure size 432x288 with 1 Axes>"
      ]
     },
     "metadata": {
      "needs_background": "light"
     },
     "output_type": "display_data"
    }
   ],
   "source": [
    "plt.plot(df[\"t ms\"]/1000, df[\"mag\"])\n",
    "plt.xlabel(\"Time\")\n",
    "plt.ylabel(\"Value\")\n",
    "plt.title(\"Mag of acceleration axes\")\n",
    "plt.show()"
   ]
  },
  {
   "cell_type": "code",
   "execution_count": 9,
   "id": "00277544",
   "metadata": {},
   "outputs": [],
   "source": [
    "#Autocorelation function\n",
    "\n",
    "def autocorr(x,lags):\n",
    "    '''manualy compute, non partial'''\n",
    "\n",
    "    mean=np.mean(x)\n",
    "    var=np.var(x)\n",
    "    xp=x-mean\n",
    "    corr=[1. if l==0 else np.sum(xp[l:]*xp[:-l])/(len(x)-l)/var for l in lags]\n",
    "\n",
    "    return np.array(corr)"
   ]
  },
  {
   "cell_type": "code",
   "execution_count": 10,
   "id": "7b94707b",
   "metadata": {},
   "outputs": [],
   "source": [
    "def sliding_window(elements, window_size, all_windows):\n",
    "    bound = int(len(elements)/(window_size/2))\n",
    "    if len(elements) <= window_size:\n",
    "       return elements\n",
    "    for i in range(len(elements)):\n",
    "        if (len(all_windows)==bound):\n",
    "            break\n",
    "        all_windows.append(np.array(elements[int(i*window_size/2):int(i*window_size/2)+window_size]))"
   ]
  },
  {
   "cell_type": "code",
   "execution_count": 41,
   "id": "52d50a9c",
   "metadata": {},
   "outputs": [],
   "source": [
    "windows = []\n",
    "sliding_window(df[\"mag\"], 200, windows)"
   ]
  },
  {
   "cell_type": "code",
   "execution_count": 100,
   "id": "410bec77",
   "metadata": {},
   "outputs": [],
   "source": [
    "std_windows = []\n",
    "activity_1_2 = []\n",
    "for i in windows:\n",
    "    std_windows.append(np.std(i))\n",
    "    if (np.std(i)> 0.1):\n",
    "        activity_1_2.append(i)\n"
   ]
  },
  {
   "cell_type": "code",
   "execution_count": 101,
   "id": "6ca2d01f",
   "metadata": {
    "scrolled": true
   },
   "outputs": [
    {
     "data": {
      "image/png": "[encoded data removed]",
      "text/plain": [
       "<Figure size 432x288 with 1 Axes>"
      ]
     },
     "metadata": {
      "needs_background": "light"
     },
     "output_type": "display_data"
    }
   ],
   "source": [
    "plt.plot(std_windows)\n",
    "plt.show()"
   ]
  },
  {
   "cell_type": "code",
   "execution_count": 102,
   "id": "b42eba0e",
   "metadata": {},
   "outputs": [
    {
     "data": {
      "image/png": "[encoded data removed]",
      "text/plain": [
       "<Figure size 432x288 with 1 Axes>"
      ]
     },
     "metadata": {
      "needs_background": "light"
     },
     "output_type": "display_data"
    }
   ],
   "source": [
    "merged_1 = []  ##we merged all the signal of walking passed 1 filter\n",
    "for i in activity_1_2: \n",
    "    for j in i:\n",
    "        merged.append(j)\n",
    "\n",
    "plt.plot(merged)\n",
    "plt.show()"
   ]
  },
  {
   "cell_type": "code",
   "execution_count": 103,
   "id": "db8c7134",
   "metadata": {},
   "outputs": [],
   "source": [
    "#Autocorelation function\n",
    "\n",
    "def autocorr(x,lags):\n",
    "    '''manualy compute, non partial'''\n",
    "\n",
    "    mean=np.mean(x)\n",
    "    var=np.var(x)\n",
    "    xp=x-mean\n",
    "    corr=[1. if l==0 else np.sum(xp[l:]*xp[:-l])/(len(x)-l)/var for l in lags]\n",
    "\n",
    "    return np.array(corr)"
   ]
  },
  {
   "cell_type": "code",
   "execution_count": 104,
   "id": "e770e4fc",
   "metadata": {},
   "outputs": [],
   "source": [
    "\n",
    "import sys\n",
    "from numpy import NaN, Inf, arange, isscalar, asarray, array\n",
    "def peakdet(v, delta, x = None):\n",
    "    maxtab = []\n",
    "    mintab = []\n",
    "    if x is None:\n",
    "        x = arange(len(v))\n",
    "    v = asarray(v)\n",
    "    if len(v) != len(x):\n",
    "        sys.exit('Input vectors v and x must have same length')\n",
    "    if not isscalar(delta):\n",
    "        sys.exit('Input argument delta must be a scalar')\n",
    "    if delta <= 0:\n",
    "        sys.exit('Input argument delta must be positive')\n",
    "    mn, mx = Inf, -Inf\n",
    "    mnpos, mxpos = NaN, NaN\n",
    "    lookformax = True\n",
    "    for i in arange(len(v)):\n",
    "        this = v[i]\n",
    "        if this > mx:\n",
    "            mx = this\n",
    "            mxpos = x[i]\n",
    "        if this < mn:\n",
    "            mn = this\n",
    "            mnpos = x[i]\n",
    "        if lookformax:\n",
    "            if this < mx-delta:\n",
    "                maxtab.append((mxpos, mx))\n",
    "                mn = this\n",
    "                mnpos = x[i]\n",
    "                lookformax = False\n",
    "        else:\n",
    "            if this > mn+delta:\n",
    "                mintab.append((mnpos, mn))\n",
    "                mx = this\n",
    "                mxpos = x[i]\n",
    "                lookformax = True\n",
    "    return array(maxtab)"
   ]
  },
  {
   "cell_type": "code",
   "execution_count": 105,
   "id": "6e48c4a2",
   "metadata": {},
   "outputs": [],
   "source": [
    "afcs = []\n",
    "activity_2_2 = []\n",
    "for i in activity_1_2:\n",
    "    afcs.append(autocorr(np.array(i), np.arange(0,len(i))))\n",
    "    "
   ]
  },
  {
   "cell_type": "code",
   "execution_count": 106,
   "id": "86512ae0",
   "metadata": {},
   "outputs": [],
   "source": [
    "peaks = []\n",
    "for i in afcs:\n",
    "    peaks.append(peakdet(i,1))\n"
   ]
  },
  {
   "cell_type": "code",
   "execution_count": 107,
   "id": "7ec1b2d9",
   "metadata": {},
   "outputs": [
    {
     "data": {
      "image/png": "[encoded data removed]",
      "text/plain": [
       "<Figure size 432x288 with 1 Axes>"
      ]
     },
     "metadata": {
      "needs_background": "light"
     },
     "output_type": "display_data"
    }
   ],
   "source": [
    "plt.plot(afcs[250])\n",
    "plt.plot(activity_1_2[250])\n",
    "plt.scatter(peaks[250][:,0], peaks[250][:,1], color='blue')\n",
    "plt.show()"
   ]
  },
  {
   "cell_type": "code",
   "execution_count": 108,
   "id": "a250d4fd",
   "metadata": {},
   "outputs": [],
   "source": [
    "count = 0;\n",
    "peaks_wlk = []\n",
    "afcs_wlk = []\n",
    "activity_2_2 = []\n",
    "for i in peaks:\n",
    "    if len(i) > 2:\n",
    "        # marche 2/2 \n",
    "        peaks_wlk.append(i)\n",
    "        activity_2_2.append(activity_1_2[count])\n",
    "        afcs_wlk.append(afcs[count])\n",
    "    count+=1\n",
    "## Add another level of filter (Non Max Supression)"
   ]
  },
  {
   "cell_type": "code",
   "execution_count": 109,
   "id": "d23dbd5d",
   "metadata": {},
   "outputs": [],
   "source": [
    "merged_2 = []\n",
    "\n",
    "for i in activity_2_2:\n",
    "    for j in i:\n",
    "        merged_2.append(j)"
   ]
  },
  {
   "cell_type": "code",
   "execution_count": 110,
   "id": "738ca306",
   "metadata": {},
   "outputs": [
    {
     "data": {
      "image/png": "[encoded data removed]",
      "text/plain": [
       "<Figure size 432x288 with 1 Axes>"
      ]
     },
     "metadata": {
      "needs_background": "light"
     },
     "output_type": "display_data"
    }
   ],
   "source": [
    "plt.plot(merged_2[:1000])\n",
    "plt.show()"
   ]
  },
  {
   "cell_type": "code",
   "execution_count": 116,
   "id": "d8339df2",
   "metadata": {},
   "outputs": [
    {
     "data": {
      "text/plain": [
       "<matplotlib.collections.PathCollection at 0x7f247e93cdf0>"
      ]
     },
     "execution_count": 116,
     "metadata": {},
     "output_type": "execute_result"
    },
    {
     "data": {
      "image/png": "[encoded data removed]",
      "text/plain": [
       "<Figure size 432x288 with 1 Axes>"
      ]
     },
     "metadata": {
      "needs_background": "light"
     },
     "output_type": "display_data"
    }
   ],
   "source": [
    "plt.plot(afcs_wlk[100])\n",
    "plt.plot(activity_2_2[100])\n",
    "plt.scatter(peaks_wlk[100][:,0], peaks_wlk[100][:,1], color='blue')\n"
   ]
  },
  {
   "cell_type": "code",
   "execution_count": null,
   "id": "241e8c6b",
   "metadata": {},
   "outputs": [],
   "source": []
  }
 ],
 "metadata": {
  "kernelspec": {
   "display_name": "Python 3 (ipykernel)",
   "language": "python",
   "name": "python3"
  },
  "language_info": {
   "codemirror_mode": {
    "name": "ipython",
    "version": 3
   },
   "file_extension": ".py",
   "mimetype": "text/x-python",
   "name": "python",
   "nbconvert_exporter": "python",
   "pygments_lexer": "ipython3",
   "version": "3.10.10"
  }
 },
 "nbformat": 4,
 "nbformat_minor": 5
}
